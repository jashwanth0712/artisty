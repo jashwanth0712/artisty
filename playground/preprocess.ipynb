{
 "cells": [
  {
   "cell_type": "code",
   "execution_count": null,
   "metadata": {},
   "outputs": [],
   "source": [
    "import os\n",
    "\n",
    "def rename_images_in_folder(folder_path):\n",
    "    # Get a list of all files in the folder\n",
    "    files = os.listdir(folder_path)\n",
    "    \n",
    "    # Filter the list to only include .png files\n",
    "    png_files = [f for f in files if f.endswith('.png')]\n",
    "    \n",
    "    # Sort the files to maintain a consistent order\n",
    "    png_files.sort()\n",
    "    \n",
    "    # Loop through the .png files and rename them\n",
    "    for i, filename in enumerate(png_files):\n",
    "        new_name = f\"image{i+1}.png\"\n",
    "        old_path = os.path.join(folder_path, filename)\n",
    "        new_path = os.path.join(folder_path, new_name)\n",
    "        \n",
    "        os.rename(old_path, new_path)\n",
    "        print(f\"Renamed {old_path} to {new_path}\")\n",
    "\n",
    "# Usage example\n",
    "folder_path = \"inputs\"\n",
    "rename_images_in_folder(folder_path)\n"
   ]
  }
 ],
 "metadata": {
  "language_info": {
   "name": "python"
  }
 },
 "nbformat": 4,
 "nbformat_minor": 2
}
